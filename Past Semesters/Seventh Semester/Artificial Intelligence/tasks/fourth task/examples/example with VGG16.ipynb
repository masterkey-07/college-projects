{
  "cells": [
    {
      "cell_type": "markdown",
      "metadata": {
        "colab_type": "text",
        "id": "YSr7nMRd2f_3"
      },
      "source": [
        " ## Dataset: Torn Clothes\n",
        "\n",
        "The dataset is comprised of clothes where some of them are torn other not. <br>So we have 2 categories. "
      ]
    },
    {
      "cell_type": "code",
      "execution_count": null,
      "metadata": {
        "colab": {},
        "colab_type": "code",
        "id": "9rvWCuNa2f_5"
      },
      "outputs": [],
      "source": [
        "# PyTorch\n",
        "from torchvision import transforms, datasets, models\n",
        "import torch\n",
        "from torch import optim, cuda\n",
        "from torch.utils.data import DataLoader, sampler\n",
        "import torch.nn as nn\n",
        "\n",
        "import warnings\n",
        "warnings.filterwarnings('ignore', category=FutureWarning)\n",
        "\n",
        "# Data science tools\n",
        "import numpy as np\n",
        "import pandas as pd\n",
        "import os\n",
        "\n",
        "# Image manipulations\n",
        "from PIL import Image\n",
        "# Useful for examining network\n",
        "from torchsummary import summary\n",
        "# Timing utility\n",
        "from timeit import default_timer as timer\n",
        "\n",
        "# Visualizations\n",
        "import matplotlib.pyplot as plt\n",
        "import seaborn as sns\n",
        "%matplotlib inline\n"
      ]
    },
    {
      "cell_type": "markdown",
      "metadata": {
        "colab_type": "text",
        "id": "jIPst-aI2f__"
      },
      "source": [
        "### Parameters\n",
        "\n",
        "The parameters in this cell can be changed as needed. Since this is small dataset hence I'm going to be train it with single gpu, but your setup will probably be different. <p>One of the benefits of using PyTorch is we can easily move different elements of the model or data to cpus/gpus or to multiple gpus. Granted, we probably won't always have many gpus, but when we do, we want to make the best use of them! "
      ]
    },
    {
      "cell_type": "code",
      "execution_count": 14,
      "metadata": {
        "colab": {
          "base_uri": "https://localhost:8080/",
          "height": 50
        },
        "colab_type": "code",
        "id": "A5w69LdK2gAA",
        "outputId": "059ebd01-1119-4fc0-cd1f-2cb8502f81eb"
      },
      "outputs": [
        {
          "name": "stdout",
          "output_type": "stream",
          "text": [
            "Train on gpu: True\n",
            "1 gpus detected.\n"
          ]
        }
      ],
      "source": [
        "\n",
        "# Location of data\n",
        "datadir = 'all/'\n",
        "traindir =datadir+'train/'\n",
        "validdir =datadir+'valid/'\n",
        "testdir =datadir+'test/'\n",
        "\n",
        "save_file_name = 'vgg16-transfer-4.pt'\n",
        "checkpoint_path = 'vgg16-transfer-4.pth'\n",
        "\n",
        "# Change to fit hardware\n",
        "batch_size = 1\n",
        "\n",
        "# Whether to train on a gpu\n",
        "train_on_gpu = cuda.is_available()\n",
        "print(f'Train on gpu: {train_on_gpu}')\n",
        "\n",
        "#If you use multiple gpus it turns statement multi_gpu = True. Probably useful for large datasets\n",
        "# Number of gpus\n",
        "if train_on_gpu:\n",
        "    gpu_count = cuda.device_count()\n",
        "    print(f'{gpu_count} gpus detected.')\n",
        "    if gpu_count > 1:\n",
        "        multi_gpu = True\n",
        "    else:\n",
        "        multi_gpu = False"
      ]
    },
    {
      "cell_type": "code",
      "execution_count": null,
      "metadata": {
        "colab": {},
        "colab_type": "code",
        "id": "NPzq2I6u6Hue"
      },
      "outputs": [],
      "source": [
        "#command to insert files/daatset in colab\n",
        "#from zipfile import ZipFile\n",
        "#file_name = \"all.zip\"\n",
        "\n",
        "#with ZipFile(file_name,'r') as zip:\n",
        "#  zip.extractall()"
      ]
    },
    {
      "cell_type": "code",
      "execution_count": null,
      "metadata": {
        "colab": {},
        "colab_type": "code",
        "id": "isTKa_8m-rZE"
      },
      "outputs": [],
      "source": [
        "#Command to remove files from colab\n",
        "#rm -rf all.zip"
      ]
    },
    {
      "cell_type": "markdown",
      "metadata": {
        "colab_type": "text",
        "id": "FDhPe0Ho2gAM"
      },
      "source": [
        "Below we take a look at the number of images in each category and the size of the images."
      ]
    },
    {
      "cell_type": "code",
      "execution_count": 17,
      "metadata": {
        "colab": {
          "base_uri": "https://localhost:8080/",
          "height": 106
        },
        "colab_type": "code",
        "id": "4A6pZwY02gAN",
        "outputId": "c881d33a-4313-4153-ab59-9a5a35f2b016"
      },
      "outputs": [
        {
          "data": {
            "text/html": [
              "<div>\n",
              "<style scoped>\n",
              "    .dataframe tbody tr th:only-of-type {\n",
              "        vertical-align: middle;\n",
              "    }\n",
              "\n",
              "    .dataframe tbody tr th {\n",
              "        vertical-align: top;\n",
              "    }\n",
              "\n",
              "    .dataframe thead th {\n",
              "        text-align: right;\n",
              "    }\n",
              "</style>\n",
              "<table border=\"1\" class=\"dataframe\">\n",
              "  <thead>\n",
              "    <tr style=\"text-align: right;\">\n",
              "      <th></th>\n",
              "      <th>category</th>\n",
              "      <th>n_train</th>\n",
              "      <th>n_valid</th>\n",
              "      <th>n_test</th>\n",
              "    </tr>\n",
              "  </thead>\n",
              "  <tbody>\n",
              "    <tr>\n",
              "      <th>1</th>\n",
              "      <td>not</td>\n",
              "      <td>14</td>\n",
              "      <td>3</td>\n",
              "      <td>4</td>\n",
              "    </tr>\n",
              "    <tr>\n",
              "      <th>0</th>\n",
              "      <td>sure</td>\n",
              "      <td>13</td>\n",
              "      <td>3</td>\n",
              "      <td>4</td>\n",
              "    </tr>\n",
              "  </tbody>\n",
              "</table>\n",
              "</div>"
            ],
            "text/plain": [
              "  category  n_train  n_valid  n_test\n",
              "1      not       14        3       4\n",
              "0     sure       13        3       4"
            ]
          },
          "execution_count": 17,
          "metadata": {
            "tags": []
          },
          "output_type": "execute_result"
        }
      ],
      "source": [
        "# Empty lists\n",
        "categories = []\n",
        "img_categories = []\n",
        "n_train = []\n",
        "n_valid = []\n",
        "n_test = []\n",
        "hs = []\n",
        "ws = []\n",
        "\n",
        "# Iterate through each category\n",
        "for d in os.listdir(traindir):\n",
        "    categories.append(d)\n",
        "\n",
        "    # Number of each image\n",
        "    train_imgs = os.listdir(traindir + d)\n",
        "    valid_imgs = os.listdir(validdir + d)\n",
        "    test_imgs = os.listdir(testdir + d)\n",
        "    n_train.append(len(train_imgs))\n",
        "    n_valid.append(len(valid_imgs))\n",
        "    n_test.append(len(test_imgs))\n",
        "\n",
        "    # Find stats for train images\n",
        "    for i in train_imgs:\n",
        "        img_categories.append(d)\n",
        "        img = Image.open(traindir + d + '/' + i)\n",
        "        img_array = np.array(img)\n",
        "        # Shape\n",
        "        hs.append(img_array.shape[0])\n",
        "        ws.append(img_array.shape[1])\n",
        "\n",
        "# Dataframe of categories\n",
        "cat_df = pd.DataFrame({'category': categories,\n",
        "                       'n_train': n_train,\n",
        "                       'n_valid': n_valid, 'n_test': n_test}).\\\n",
        "    sort_values('category')\n",
        "\n",
        "# Dataframe of training images\n",
        "image_df = pd.DataFrame({\n",
        "    'category': img_categories,\n",
        "    'height': hs,\n",
        "    'width': ws\n",
        "})\n",
        "\n",
        "cat_df.sort_values('n_train', ascending=False, inplace=True)\n",
        "cat_df.head()"
      ]
    },
    {
      "cell_type": "markdown",
      "metadata": {
        "colab_type": "text",
        "id": "oF6trI1i2gAT"
      },
      "source": [
        "#### Distribution of Images\n",
        "\n",
        "There are  13 and 14 training images in each sure and not sure category. "
      ]
    },
    {
      "cell_type": "markdown",
      "metadata": {
        "colab_type": "text",
        "id": "tCBE1B1Z2gAh"
      },
      "source": [
        "#### Distribution of Images Sizes\n",
        "\n",
        "The images themselves have vastly different shapes. We can see this by looking at the stats of images sizes by category."
      ]
    },
    {
      "cell_type": "code",
      "execution_count": 18,
      "metadata": {
        "colab": {
          "base_uri": "https://localhost:8080/",
          "height": 166
        },
        "colab_type": "code",
        "id": "Qle3cuVA2gAi",
        "outputId": "ffeba341-a3ed-471a-f800-41ab28833db2"
      },
      "outputs": [
        {
          "data": {
            "text/html": [
              "<div>\n",
              "<style scoped>\n",
              "    .dataframe tbody tr th:only-of-type {\n",
              "        vertical-align: middle;\n",
              "    }\n",
              "\n",
              "    .dataframe tbody tr th {\n",
              "        vertical-align: top;\n",
              "    }\n",
              "\n",
              "    .dataframe thead tr th {\n",
              "        text-align: left;\n",
              "    }\n",
              "\n",
              "    .dataframe thead tr:last-of-type th {\n",
              "        text-align: right;\n",
              "    }\n",
              "</style>\n",
              "<table border=\"1\" class=\"dataframe\">\n",
              "  <thead>\n",
              "    <tr>\n",
              "      <th></th>\n",
              "      <th colspan=\"8\" halign=\"left\">height</th>\n",
              "      <th colspan=\"8\" halign=\"left\">width</th>\n",
              "    </tr>\n",
              "    <tr>\n",
              "      <th></th>\n",
              "      <th>count</th>\n",
              "      <th>mean</th>\n",
              "      <th>std</th>\n",
              "      <th>min</th>\n",
              "      <th>25%</th>\n",
              "      <th>50%</th>\n",
              "      <th>75%</th>\n",
              "      <th>max</th>\n",
              "      <th>count</th>\n",
              "      <th>mean</th>\n",
              "      <th>std</th>\n",
              "      <th>min</th>\n",
              "      <th>25%</th>\n",
              "      <th>50%</th>\n",
              "      <th>75%</th>\n",
              "      <th>max</th>\n",
              "    </tr>\n",
              "    <tr>\n",
              "      <th>category</th>\n",
              "      <th></th>\n",
              "      <th></th>\n",
              "      <th></th>\n",
              "      <th></th>\n",
              "      <th></th>\n",
              "      <th></th>\n",
              "      <th></th>\n",
              "      <th></th>\n",
              "      <th></th>\n",
              "      <th></th>\n",
              "      <th></th>\n",
              "      <th></th>\n",
              "      <th></th>\n",
              "      <th></th>\n",
              "      <th></th>\n",
              "      <th></th>\n",
              "    </tr>\n",
              "  </thead>\n",
              "  <tbody>\n",
              "    <tr>\n",
              "      <th>not</th>\n",
              "      <td>14.0</td>\n",
              "      <td>228.571429</td>\n",
              "      <td>22.283883</td>\n",
              "      <td>178.0</td>\n",
              "      <td>225.0</td>\n",
              "      <td>225.0</td>\n",
              "      <td>246.5</td>\n",
              "      <td>259.0</td>\n",
              "      <td>14.0</td>\n",
              "      <td>218.571429</td>\n",
              "      <td>17.500392</td>\n",
              "      <td>194.0</td>\n",
              "      <td>204.5</td>\n",
              "      <td>222.5</td>\n",
              "      <td>225.0</td>\n",
              "      <td>266.0</td>\n",
              "    </tr>\n",
              "    <tr>\n",
              "      <th>sure</th>\n",
              "      <td>13.0</td>\n",
              "      <td>229.615385</td>\n",
              "      <td>33.949812</td>\n",
              "      <td>183.0</td>\n",
              "      <td>198.0</td>\n",
              "      <td>225.0</td>\n",
              "      <td>258.0</td>\n",
              "      <td>275.0</td>\n",
              "      <td>13.0</td>\n",
              "      <td>223.461538</td>\n",
              "      <td>34.798504</td>\n",
              "      <td>183.0</td>\n",
              "      <td>185.0</td>\n",
              "      <td>225.0</td>\n",
              "      <td>255.0</td>\n",
              "      <td>275.0</td>\n",
              "    </tr>\n",
              "  </tbody>\n",
              "</table>\n",
              "</div>"
            ],
            "text/plain": [
              "         height                                ...  width                     \n",
              "          count        mean        std    min  ...    25%    50%    75%    max\n",
              "category                                       ...                            \n",
              "not        14.0  228.571429  22.283883  178.0  ...  204.5  222.5  225.0  266.0\n",
              "sure       13.0  229.615385  33.949812  183.0  ...  185.0  225.0  255.0  275.0\n",
              "\n",
              "[2 rows x 16 columns]"
            ]
          },
          "execution_count": 18,
          "metadata": {
            "tags": []
          },
          "output_type": "execute_result"
        }
      ],
      "source": [
        "img_dsc = image_df.groupby('category').describe()\n",
        "img_dsc.head()"
      ]
    },
    {
      "cell_type": "markdown",
      "metadata": {
        "colab_type": "text",
        "id": "G5vLcG482gAt"
      },
      "source": [
        "When we use the images in the pre-trained network, we'll have to reshape them to 224 x 224. This is the size of Imagenet images and is therefore what the model expects. The images that are larger than this will be truncated while the smaller images will be interpolated. "
      ]
    },
    {
      "cell_type": "markdown",
      "metadata": {
        "colab_type": "text",
        "id": "fFj4U0VO2gA5"
      },
      "source": [
        "# Image Preprocessing\n",
        "\n",
        "To prepare the images for our network, we have to resize them to 64 x 64 and normalize each color channel by subtracting a mean value and dividing by a standard deviation. We will also augment our training data in this stage. These operations are done using image `transforms`, which prepare our data for a neural network.\n",
        "\n",
        "### Data Augmentation\n",
        "\n",
        "Because there are a limited number of images in some categories, we can use image augmentation to artificially increase the number of images \"seen\" by the network. This means for training, we randomly resize and crop the images and also flip them horizontally. A different random transformation is applied each epoch (while training), so the network effectively sees many different versions of the same image. All of the data is also converted to Torch `Tensor`s before normalization. The validation and testing data is not augmented but is only resized and normalized. The normalization values are standardized for Imagenet. "
      ]
    },
    {
      "cell_type": "code",
      "execution_count": null,
      "metadata": {
        "colab": {},
        "colab_type": "code",
        "id": "Os0mRmPj2gA6"
      },
      "outputs": [],
      "source": [
        "# Image transformations\n",
        "image_transforms = {\n",
        "    # Train uses data augmentation\n",
        "    'train':\n",
        "    transforms.Compose([\n",
        "        transforms.RandomResizedCrop(size=200, scale=(0.8, 1.0)),\n",
        "        transforms.RandomRotation(degrees=30),\n",
        "        transforms.ColorJitter(),\n",
        "        transforms.RandomHorizontalFlip(),\n",
        "        transforms.CenterCrop(size=64),  # Image net standards\n",
        "        transforms.ToTensor(),\n",
        "        transforms.Normalize([0.485, 0.456, 0.406],\n",
        "                             [0.229, 0.224, 0.225])  # Imagenet standards\n",
        "    ]),\n",
        "    # Validation does not use augmentation\n",
        "    'val':\n",
        "    transforms.Compose([\n",
        "        transforms.Resize(size=64),\n",
        "        transforms.CenterCrop(size=180),\n",
        "        transforms.ToTensor(),\n",
        "        transforms.Normalize([0.485, 0.456, 0.406], [0.229, 0.224, 0.225])\n",
        "    ]),\n",
        "    # Test does not use augmentation\n",
        "    'test':\n",
        "    transforms.Compose([\n",
        "        transforms.Resize(size=64),\n",
        "        transforms.CenterCrop(size=180),\n",
        "        transforms.ToTensor(),\n",
        "        transforms.Normalize([0.485, 0.456, 0.406], [0.229, 0.224, 0.225])\n",
        "    ]),\n",
        "}"
      ]
    },
    {
      "cell_type": "markdown",
      "metadata": {
        "colab_type": "text",
        "id": "wPluPJBk2gBE"
      },
      "source": [
        "We'll work with two example images and apply the train transformations."
      ]
    },
    {
      "cell_type": "markdown",
      "metadata": {
        "colab_type": "text",
        "id": "71J0YzHu2gBT"
      },
      "source": [
        "## Data Iterators\n",
        "\n",
        "To avoid loading all of the data into memory at once, we use training `DataLoaders`. First, we create a dataset object from the image folders, and then we pass these to a `DataLoader`. At training time, the `DataLoader` will load the images from disk, apply the transformations, and yield a batch. To train and validation, we'll iterate through all the batches in the respective `DataLoader`. \n",
        "\n",
        "One crucial aspect is to `shuffle` the data before passing it to the network. This means that the ordering of the image categories changes on each pass through the data (one pass through the data is one training epoch). "
      ]
    },
    {
      "cell_type": "code",
      "execution_count": null,
      "metadata": {
        "colab": {},
        "colab_type": "code",
        "id": "ptwoWACO2gBU"
      },
      "outputs": [],
      "source": [
        "# Datasets from each folder\n",
        "data = {\n",
        "    'train':\n",
        "    datasets.ImageFolder(root=traindir, transform=image_transforms['train']),\n",
        "    'val':\n",
        "    datasets.ImageFolder(root=validdir, transform=image_transforms['val']),\n",
        "    'test':\n",
        "    datasets.ImageFolder(root=testdir, transform=image_transforms['test'])\n",
        "}\n",
        "\n",
        "# Dataloader iterators\n",
        "dataloaders = {\n",
        "    'train': DataLoader(data['train'], batch_size=batch_size, shuffle=True),\n",
        "    'val': DataLoader(data['val'], batch_size=batch_size, shuffle=True),\n",
        "    'test': DataLoader(data['test'], batch_size=batch_size, shuffle=True)\n",
        "}"
      ]
    },
    {
      "cell_type": "code",
      "execution_count": 23,
      "metadata": {
        "colab": {
          "base_uri": "https://localhost:8080/",
          "height": 34
        },
        "colab_type": "code",
        "id": "rOUx0iGI2gBX",
        "outputId": "6a6c5725-19d0-4eeb-c1bd-cce5f084f815"
      },
      "outputs": [
        {
          "data": {
            "text/plain": [
              "(torch.Size([1, 3, 64, 64]), torch.Size([1]))"
            ]
          },
          "execution_count": 23,
          "metadata": {
            "tags": []
          },
          "output_type": "execute_result"
        }
      ],
      "source": [
        "trainiter = iter(dataloaders['train'])\n",
        "features, labels = next(trainiter)\n",
        "features.shape, labels.shape"
      ]
    },
    {
      "cell_type": "markdown",
      "metadata": {
        "colab_type": "text",
        "id": "MNTzaID42gBa"
      },
      "source": [
        "The shape of a batch is `(batch_size, color_channels, height, width)`. "
      ]
    },
    {
      "cell_type": "markdown",
      "metadata": {
        "colab_type": "text",
        "id": "ZB6elypE2gBa"
      },
      "source": [
        "There should be 2 different classes. We can confirm this as follows."
      ]
    },
    {
      "cell_type": "code",
      "execution_count": 24,
      "metadata": {
        "colab": {
          "base_uri": "https://localhost:8080/",
          "height": 50
        },
        "colab_type": "code",
        "id": "xho-_1KJ2gBb",
        "outputId": "27419f0b-984b-420e-9bd3-d96fe9249056"
      },
      "outputs": [
        {
          "name": "stdout",
          "output_type": "stream",
          "text": [
            "There are 2 different classes.\n"
          ]
        },
        {
          "data": {
            "text/plain": [
              "2"
            ]
          },
          "execution_count": 24,
          "metadata": {
            "tags": []
          },
          "output_type": "execute_result"
        }
      ],
      "source": [
        "n_classes = len(cat_df)\n",
        "print(f'There are {n_classes} different classes.')\n",
        "\n",
        "len(data['train'].classes)"
      ]
    },
    {
      "cell_type": "markdown",
      "metadata": {
        "colab_type": "text",
        "id": "WjBiP5YV2gBf"
      },
      "source": [
        "We can iterate through the `DataLoaders` when doing training, validation, and testing. This construction avoids the need to load all the data into memory and also will automatically apply the transformations to each batch. On each epoch, the `Random` transformations will be different so the network will essentially see multiple versions of each training image. "
      ]
    },
    {
      "cell_type": "markdown",
      "metadata": {
        "colab_type": "text",
        "id": "SLHO43zb2gBg"
      },
      "source": [
        "# Pre-Trained Models for Image Classification\n",
        "\n",
        "PyTorch has many pretrained models we can use. All of these models have been trained on Imagenet which consists of millions of images across 1000 categories. What we want to do with pretrained models is freeze the early layers, and replace the classification module with our own. \n",
        "\n",
        "## Approach\n",
        "\n",
        "The approach for using a pre-trained image recognition model is well-established:\n",
        "\n",
        "1. Load in pre-trained weights from a network trained on a large dataset\n",
        "2. Freeze all the weights in the lower (convolutional) layers\n",
        "    * Layers to freeze can be adjusted depending on similarity of task to large training dataset\n",
        "3. Replace the classifier (fully connected) part of the network with a custom classifier\n",
        "    * Number of outputs must be set equal to the number of classes\n",
        "4. Train only the custom classifier (fully connected) layers for the task\n",
        "    * Optimizer model classifier for smaller dataset\n",
        "    \n",
        "The idea behind pre-training is the early convolutional layers of a cnn extract features that are relevant for many image recognition tasks. The later, fully-connected layers, specialize to the specific dataset by learning higher-level features. Therefore, we can use the already trained convolutional layers while training only the fully-connected layers on our own dataset. Pre-trained networks have proven to be reasonably successful for a variety of tasks, and result in a significant reduction in training time and usually increases in performance. "
      ]
    },
    {
      "cell_type": "markdown",
      "metadata": {
        "colab_type": "text",
        "id": "xcv5raaD2gBl"
      },
      "source": [
        "We'll be using the `vgg16`. The VGG networks had very good performance without taking a long time to train. "
      ]
    },
    {
      "cell_type": "markdown",
      "metadata": {
        "colab_type": "text",
        "id": "9mdom7GC2gBl"
      },
      "source": [
        "## Process to Use Pre-Trained Model\n",
        "\n",
        "We'll illustrate the process by using one model, vgg16.\n",
        "\n",
        "First off, load in the model with pretrained weights. "
      ]
    },
    {
      "cell_type": "code",
      "execution_count": 26,
      "metadata": {
        "colab": {
          "base_uri": "https://localhost:8080/",
          "height": 806
        },
        "colab_type": "code",
        "id": "neTcjDN82gBm",
        "outputId": "5f42cf9d-62c3-461b-cf1a-ec6ecf18b6ec"
      },
      "outputs": [
        {
          "name": "stderr",
          "output_type": "stream",
          "text": [
            "Downloading: \"https://download.pytorch.org/models/vgg16-397923af.pth\" to /root/.cache/torch/checkpoints/vgg16-397923af.pth\n",
            "100%|██████████| 553433881/553433881 [00:03<00:00, 138711872.17it/s]\n"
          ]
        },
        {
          "data": {
            "text/plain": [
              "VGG(\n",
              "  (features): Sequential(\n",
              "    (0): Conv2d(3, 64, kernel_size=(3, 3), stride=(1, 1), padding=(1, 1))\n",
              "    (1): ReLU(inplace)\n",
              "    (2): Conv2d(64, 64, kernel_size=(3, 3), stride=(1, 1), padding=(1, 1))\n",
              "    (3): ReLU(inplace)\n",
              "    (4): MaxPool2d(kernel_size=2, stride=2, padding=0, dilation=1, ceil_mode=False)\n",
              "    (5): Conv2d(64, 128, kernel_size=(3, 3), stride=(1, 1), padding=(1, 1))\n",
              "    (6): ReLU(inplace)\n",
              "    (7): Conv2d(128, 128, kernel_size=(3, 3), stride=(1, 1), padding=(1, 1))\n",
              "    (8): ReLU(inplace)\n",
              "    (9): MaxPool2d(kernel_size=2, stride=2, padding=0, dilation=1, ceil_mode=False)\n",
              "    (10): Conv2d(128, 256, kernel_size=(3, 3), stride=(1, 1), padding=(1, 1))\n",
              "    (11): ReLU(inplace)\n",
              "    (12): Conv2d(256, 256, kernel_size=(3, 3), stride=(1, 1), padding=(1, 1))\n",
              "    (13): ReLU(inplace)\n",
              "    (14): Conv2d(256, 256, kernel_size=(3, 3), stride=(1, 1), padding=(1, 1))\n",
              "    (15): ReLU(inplace)\n",
              "    (16): MaxPool2d(kernel_size=2, stride=2, padding=0, dilation=1, ceil_mode=False)\n",
              "    (17): Conv2d(256, 512, kernel_size=(3, 3), stride=(1, 1), padding=(1, 1))\n",
              "    (18): ReLU(inplace)\n",
              "    (19): Conv2d(512, 512, kernel_size=(3, 3), stride=(1, 1), padding=(1, 1))\n",
              "    (20): ReLU(inplace)\n",
              "    (21): Conv2d(512, 512, kernel_size=(3, 3), stride=(1, 1), padding=(1, 1))\n",
              "    (22): ReLU(inplace)\n",
              "    (23): MaxPool2d(kernel_size=2, stride=2, padding=0, dilation=1, ceil_mode=False)\n",
              "    (24): Conv2d(512, 512, kernel_size=(3, 3), stride=(1, 1), padding=(1, 1))\n",
              "    (25): ReLU(inplace)\n",
              "    (26): Conv2d(512, 512, kernel_size=(3, 3), stride=(1, 1), padding=(1, 1))\n",
              "    (27): ReLU(inplace)\n",
              "    (28): Conv2d(512, 512, kernel_size=(3, 3), stride=(1, 1), padding=(1, 1))\n",
              "    (29): ReLU(inplace)\n",
              "    (30): MaxPool2d(kernel_size=2, stride=2, padding=0, dilation=1, ceil_mode=False)\n",
              "  )\n",
              "  (avgpool): AdaptiveAvgPool2d(output_size=(7, 7))\n",
              "  (classifier): Sequential(\n",
              "    (0): Linear(in_features=25088, out_features=4096, bias=True)\n",
              "    (1): ReLU(inplace)\n",
              "    (2): Dropout(p=0.5)\n",
              "    (3): Linear(in_features=4096, out_features=4096, bias=True)\n",
              "    (4): ReLU(inplace)\n",
              "    (5): Dropout(p=0.5)\n",
              "    (6): Linear(in_features=4096, out_features=1000, bias=True)\n",
              "  )\n",
              ")"
            ]
          },
          "execution_count": 26,
          "metadata": {
            "tags": []
          },
          "output_type": "execute_result"
        }
      ],
      "source": [
        "model = models.vgg16(pretrained=True)\n",
        "model"
      ]
    },
    {
      "cell_type": "markdown",
      "metadata": {
        "colab_type": "text",
        "id": "VXw-tc_R2gBq"
      },
      "source": [
        "The `classifier` is the part of the model that we'll train. However, for the vgg, we'll only need to train the last few layers in the classifier and not even all of the fully connected layers. "
      ]
    },
    {
      "cell_type": "markdown",
      "metadata": {
        "colab_type": "text",
        "id": "yQMKPF-X2gBr"
      },
      "source": [
        "### Freeze Early layers\n",
        "\n",
        "We freeze all of the existing layers in the network by setting `requires_grad` to `False`. "
      ]
    },
    {
      "cell_type": "code",
      "execution_count": null,
      "metadata": {
        "colab": {},
        "colab_type": "code",
        "id": "TJyEyExS2gBs"
      },
      "outputs": [],
      "source": [
        "# Freeze early layers\n",
        "for param in model.parameters():\n",
        "    param.requires_grad = False"
      ]
    },
    {
      "cell_type": "markdown",
      "metadata": {
        "colab_type": "text",
        "id": "nELtvmmF2gBv"
      },
      "source": [
        "### Add on Custom Classifier\n",
        "\n",
        "We'll train a classifier consisting of the following layers\n",
        "\n",
        "* Fully connected with ReLU activation (n_inputs, 256)\n",
        "* Dropout with 40% chance of dropping\n",
        "* Fully connected with log softmax output (256, n_classes)\n",
        "\n",
        "To build our custom classifier, we use the `nn.Sequential()` module which allows us to specify each layer one after the other. We assign our custom classifier to the final `classifier` layer in the already trained vgg network. When we add on the extra layers, they are set to `require_grad=True` by default. These will be the only layers that are trained. "
      ]
    },
    {
      "cell_type": "code",
      "execution_count": 28,
      "metadata": {
        "colab": {
          "base_uri": "https://localhost:8080/",
          "height": 269
        },
        "colab_type": "code",
        "id": "7wptoH132gBw",
        "outputId": "106d3135-a4a8-4518-e16d-83d1656d20ca"
      },
      "outputs": [
        {
          "data": {
            "text/plain": [
              "Sequential(\n",
              "  (0): Linear(in_features=25088, out_features=4096, bias=True)\n",
              "  (1): ReLU(inplace)\n",
              "  (2): Dropout(p=0.5)\n",
              "  (3): Linear(in_features=4096, out_features=4096, bias=True)\n",
              "  (4): ReLU(inplace)\n",
              "  (5): Dropout(p=0.5)\n",
              "  (6): Sequential(\n",
              "    (0): Linear(in_features=4096, out_features=256, bias=True)\n",
              "    (1): ReLU()\n",
              "    (2): Dropout(p=0.4)\n",
              "    (3): Linear(in_features=256, out_features=2, bias=True)\n",
              "    (4): LogSoftmax()\n",
              "  )\n",
              ")"
            ]
          },
          "execution_count": 28,
          "metadata": {
            "tags": []
          },
          "output_type": "execute_result"
        }
      ],
      "source": [
        "n_inputs = model.classifier[6].in_features\n",
        "\n",
        "# Add on classifier\n",
        "model.classifier[6] = nn.Sequential(\n",
        "    nn.Linear(n_inputs, 256), nn.ReLU(), nn.Dropout(0.4),\n",
        "    nn.Linear(256, n_classes), nn.LogSoftmax(dim=1))\n",
        "\n",
        "model.classifier"
      ]
    },
    {
      "cell_type": "markdown",
      "metadata": {
        "colab_type": "text",
        "id": "fdTkESZD2gB2"
      },
      "source": [
        "The final output will be log probabilities which we can then use in the Negative Log Likelihood Loss. "
      ]
    },
    {
      "cell_type": "code",
      "execution_count": 29,
      "metadata": {
        "colab": {
          "base_uri": "https://localhost:8080/",
          "height": 50
        },
        "colab_type": "code",
        "id": "hSezb7hG2gB3",
        "outputId": "f8716235-7673-4d41-d2c5-2e11fd0b0929"
      },
      "outputs": [
        {
          "name": "stdout",
          "output_type": "stream",
          "text": [
            "135,309,890 total parameters.\n",
            "1,049,346 training parameters.\n"
          ]
        }
      ],
      "source": [
        "total_params = sum(p.numel() for p in model.parameters())\n",
        "print(f'{total_params:,} total parameters.')\n",
        "total_trainable_params = sum(\n",
        "    p.numel() for p in model.parameters() if p.requires_grad)\n",
        "print(f'{total_trainable_params:,} training parameters.')"
      ]
    },
    {
      "cell_type": "markdown",
      "metadata": {
        "colab_type": "text",
        "id": "a5qO0rzY2gB7"
      },
      "source": [
        "Even with only a few layers set to trainable, there are still over a million parameters (weights) that will be updated during training. In effect, we are _fine-tuning_ the model to work on our problem. We already know it works well on Imagenet, and because our images are relatively similar, we should expect the model to easily _transfer_ its knowledge from Imagenet to our dataset."
      ]
    },
    {
      "cell_type": "markdown",
      "metadata": {
        "colab_type": "text",
        "id": "tjRFH4cR2gB7"
      },
      "source": [
        "### Move to GPU \n",
        "\n",
        "To use a gpu in PyTorch, we simply move the whole model onto the gpu. Later we'll have to move the data to gpus in our training loop."
      ]
    },
    {
      "cell_type": "code",
      "execution_count": null,
      "metadata": {
        "colab": {},
        "colab_type": "code",
        "id": "9sBNbZrE2gB8"
      },
      "outputs": [],
      "source": [
        "if train_on_gpu:\n",
        "    model = model.to('cuda')"
      ]
    },
    {
      "cell_type": "markdown",
      "metadata": {
        "colab_type": "text",
        "id": "8Lq6utW_2gB-"
      },
      "source": [
        "## Function to Load in Pretrained Model\n",
        "\n",
        "We can refactor all that code into a single function that returns a pretrained model. This only accepts the vgg16 or resnet50 at the moment but can be extended to use other models. "
      ]
    },
    {
      "cell_type": "code",
      "execution_count": null,
      "metadata": {
        "colab": {},
        "colab_type": "code",
        "id": "RSwxPMgF2gB-"
      },
      "outputs": [],
      "source": [
        "def get_pretrained_model(model_name):\n",
        "\n",
        "    if model_name == 'vgg16':\n",
        "        model = models.vgg16(pretrained=True)\n",
        "\n",
        "        # Freeze early layers\n",
        "        for param in model.parameters():\n",
        "            param.requires_grad = False\n",
        "        \n",
        "        n_inputs = model.classifier[6].in_features\n",
        "\n",
        "        # Add on classifier\n",
        "        model.classifier[6] = nn.Sequential(\n",
        "            nn.Linear(n_inputs, 256), nn.ReLU(), nn.Dropout(0.2),\n",
        "            nn.Linear(256, n_classes), nn.LogSoftmax(dim=1))\n",
        "\n",
        "    # Move to gpu and parallelize\n",
        "    if train_on_gpu:\n",
        "        model = model.to('cuda')\n",
        "\n",
        "    return model"
      ]
    },
    {
      "cell_type": "markdown",
      "metadata": {
        "colab_type": "text",
        "id": "3F7kLG0b2gCB"
      },
      "source": [
        "This should return the same as the pretrained model with the custom classifier. In the case of resnet, we replace the `fc` layers with the same classifier.\n",
        "\n",
        "The `torchsummary` library has a helpful function called `summary` which summarizes our model."
      ]
    },
    {
      "cell_type": "code",
      "execution_count": 34,
      "metadata": {
        "colab": {
          "base_uri": "https://localhost:8080/",
          "height": 958
        },
        "colab_type": "code",
        "id": "ji25if-R2gCD",
        "outputId": "0f3559fa-d990-40a9-b583-36ac07820ea9"
      },
      "outputs": [
        {
          "name": "stdout",
          "output_type": "stream",
          "text": [
            "----------------------------------------------------------------\n",
            "        Layer (type)               Output Shape         Param #\n",
            "================================================================\n",
            "            Conv2d-1          [1, 64, 224, 224]           1,792\n",
            "              ReLU-2          [1, 64, 224, 224]               0\n",
            "            Conv2d-3          [1, 64, 224, 224]          36,928\n",
            "              ReLU-4          [1, 64, 224, 224]               0\n",
            "         MaxPool2d-5          [1, 64, 112, 112]               0\n",
            "            Conv2d-6         [1, 128, 112, 112]          73,856\n",
            "              ReLU-7         [1, 128, 112, 112]               0\n",
            "            Conv2d-8         [1, 128, 112, 112]         147,584\n",
            "              ReLU-9         [1, 128, 112, 112]               0\n",
            "        MaxPool2d-10           [1, 128, 56, 56]               0\n",
            "           Conv2d-11           [1, 256, 56, 56]         295,168\n",
            "             ReLU-12           [1, 256, 56, 56]               0\n",
            "           Conv2d-13           [1, 256, 56, 56]         590,080\n",
            "             ReLU-14           [1, 256, 56, 56]               0\n",
            "           Conv2d-15           [1, 256, 56, 56]         590,080\n",
            "             ReLU-16           [1, 256, 56, 56]               0\n",
            "        MaxPool2d-17           [1, 256, 28, 28]               0\n",
            "           Conv2d-18           [1, 512, 28, 28]       1,180,160\n",
            "             ReLU-19           [1, 512, 28, 28]               0\n",
            "           Conv2d-20           [1, 512, 28, 28]       2,359,808\n",
            "             ReLU-21           [1, 512, 28, 28]               0\n",
            "           Conv2d-22           [1, 512, 28, 28]       2,359,808\n",
            "             ReLU-23           [1, 512, 28, 28]               0\n",
            "        MaxPool2d-24           [1, 512, 14, 14]               0\n",
            "           Conv2d-25           [1, 512, 14, 14]       2,359,808\n",
            "             ReLU-26           [1, 512, 14, 14]               0\n",
            "           Conv2d-27           [1, 512, 14, 14]       2,359,808\n",
            "             ReLU-28           [1, 512, 14, 14]               0\n",
            "           Conv2d-29           [1, 512, 14, 14]       2,359,808\n",
            "             ReLU-30           [1, 512, 14, 14]               0\n",
            "        MaxPool2d-31             [1, 512, 7, 7]               0\n",
            "AdaptiveAvgPool2d-32             [1, 512, 7, 7]               0\n",
            "           Linear-33                  [1, 4096]     102,764,544\n",
            "             ReLU-34                  [1, 4096]               0\n",
            "          Dropout-35                  [1, 4096]               0\n",
            "           Linear-36                  [1, 4096]      16,781,312\n",
            "             ReLU-37                  [1, 4096]               0\n",
            "          Dropout-38                  [1, 4096]               0\n",
            "           Linear-39                   [1, 256]       1,048,832\n",
            "             ReLU-40                   [1, 256]               0\n",
            "          Dropout-41                   [1, 256]               0\n",
            "           Linear-42                     [1, 2]             514\n",
            "       LogSoftmax-43                     [1, 2]               0\n",
            "================================================================\n",
            "Total params: 135,309,890\n",
            "Trainable params: 1,049,346\n",
            "Non-trainable params: 134,260,544\n",
            "----------------------------------------------------------------\n",
            "Input size (MB): 0.57\n",
            "Forward/backward pass size (MB): 218.78\n",
            "Params size (MB): 516.17\n",
            "Estimated Total Size (MB): 735.52\n",
            "----------------------------------------------------------------\n"
          ]
        }
      ],
      "source": [
        "model = get_pretrained_model('vgg16')\n",
        "summary(model, input_size=(3, 224, 224), batch_size=batch_size, device='cuda')"
      ]
    },
    {
      "cell_type": "markdown",
      "metadata": {
        "colab_type": "text",
        "id": "Tv56WhSA2gCJ"
      },
      "source": [
        "We can see that the model is quite large and training all of the layers would take a considerable time. Even with only a few layers to train, this can still take a while to train. You might need to decrease the `batch_size` if this is not fitting on your gpu (hopefully you have one)."
      ]
    },
    {
      "cell_type": "code",
      "execution_count": 35,
      "metadata": {
        "colab": {
          "base_uri": "https://localhost:8080/",
          "height": 134
        },
        "colab_type": "code",
        "id": "hXEXu9Jj2gCJ",
        "outputId": "633d8d81-0474-45cc-ff55-1ce19f608c42"
      },
      "outputs": [
        {
          "name": "stdout",
          "output_type": "stream",
          "text": [
            "Sequential(\n",
            "  (0): Linear(in_features=4096, out_features=256, bias=True)\n",
            "  (1): ReLU()\n",
            "  (2): Dropout(p=0.2)\n",
            "  (3): Linear(in_features=256, out_features=2, bias=True)\n",
            "  (4): LogSoftmax()\n",
            ")\n"
          ]
        }
      ],
      "source": [
        "print(model.classifier[6])"
      ]
    },
    {
      "cell_type": "markdown",
      "metadata": {
        "colab_type": "text",
        "id": "6fGzyESW2gCM"
      },
      "source": [
        "#### Mapping of Classes to Indexes\n",
        "\n",
        "To keep track of the predictions made by the model, we create a mapping of classes to indexes and indexes to classes. This will let us know the actual class for a given prediction."
      ]
    },
    {
      "cell_type": "code",
      "execution_count": 36,
      "metadata": {
        "colab": {
          "base_uri": "https://localhost:8080/",
          "height": 34
        },
        "colab_type": "code",
        "id": "YfLDp8f12gCN",
        "outputId": "0333536f-3b8e-43a1-d5f9-561af7d949f8"
      },
      "outputs": [
        {
          "data": {
            "text/plain": [
              "[(0, 'not'), (1, 'sure')]"
            ]
          },
          "execution_count": 36,
          "metadata": {
            "tags": []
          },
          "output_type": "execute_result"
        }
      ],
      "source": [
        "model.class_to_idx = data['train'].class_to_idx\n",
        "model.idx_to_class = {\n",
        "    idx: class_\n",
        "    for class_, idx in model.class_to_idx.items()\n",
        "}\n",
        "\n",
        "list(model.idx_to_class.items())[:10]"
      ]
    },
    {
      "cell_type": "markdown",
      "metadata": {
        "colab_type": "text",
        "id": "s-J6Q5Nj2gCP"
      },
      "source": [
        "# Training Loss and Optimizer\n",
        "\n",
        "The loss is the negative log likelihood and the optimizer is the Adam optimizer. The negative log likelihood in PyTorch expects log probabilities so we need to pass it the raw output from the log softmax in our model's final layer. The optimizer is told to optimizer the model parameters (only a few of which require a gradient). \n",
        "\n",
        "* Loss (criterion): keeps track of the loss itself and the gradients of the loss with respect to the model parameters (weights)\n",
        "* Optimizer: updates the parameters (weights) with the gradients "
      ]
    },
    {
      "cell_type": "code",
      "execution_count": null,
      "metadata": {
        "colab": {},
        "colab_type": "code",
        "id": "Kr41QQeJ2gCQ"
      },
      "outputs": [],
      "source": [
        "criterion = nn.NLLLoss()\n",
        "optimizer = optim.Adam(model.parameters())"
      ]
    },
    {
      "cell_type": "markdown",
      "metadata": {
        "colab_type": "text",
        "id": "ESt9KKCl2gCT"
      },
      "source": [
        "Below we can look at the parameters (weights) that will be updated by the optimizer during training."
      ]
    },
    {
      "cell_type": "code",
      "execution_count": 38,
      "metadata": {
        "colab": {
          "base_uri": "https://localhost:8080/",
          "height": 84
        },
        "colab_type": "code",
        "id": "xUS4-InO2gCT",
        "outputId": "6b5fc806-76f3-4c3c-caf4-b5348b6f1048"
      },
      "outputs": [
        {
          "name": "stdout",
          "output_type": "stream",
          "text": [
            "torch.Size([256, 4096])\n",
            "torch.Size([256])\n",
            "torch.Size([2, 256])\n",
            "torch.Size([2])\n"
          ]
        }
      ],
      "source": [
        "for p in optimizer.param_groups[0]['params']:\n",
        "    if p.requires_grad:\n",
        "        print(p.shape)"
      ]
    },
    {
      "cell_type": "markdown",
      "metadata": {
        "colab_type": "text",
        "id": "Src8GbMc2gCW"
      },
      "source": [
        "# Training\n",
        "\n",
        "For training, we iterate through the train `DataLoader`, each time passing one batch through the model. One complete pass through the training data is known as an `epoch`, and we train for a set number of epochs or until early stopping kicks in (more below). After each batch, we calculate the loss (with `criterion(output, targets)`) and then calculate the gradients of the loss with respect to the model parameters with `loss.backward()`. This uses autodifferentiation and backpropagation to calculate the gradients. \n",
        "\n",
        "After calculating the gradients, we call `optimizer.step()` to update the model parameters with the gradients. This is done on every training batch so we are implementing stochastic gradient descent (or rather a version of it with momentum known as Adam). For each batch, we also compute the accuracy for monitoring and after the training loop has completed, we start the validation loop. This will be used to carry out early stopping.\n",
        "\n",
        "\n",
        "## Early Stopping\n",
        "\n",
        "Early stopping halts the training when the validation loss has not decreased for a number of epochs. Each time the validation loss does decrease, the model weights are saved so we can later load in the best model. Early stopping is an effective method to prevent overfitting on the training data. If we continue training, the training loss will continue to decrease, but the validation loss will increase because the model is starting to memorize the training data. Early stopping prevents this from happening, and, if we save the model each epoch when the validation loss decreases, we are able to retrieve the model that does best on the validation data.\n",
        "\n",
        "Early stopping is implemented by iterating through the validation data at the end of each training epoch and calculating the loss. We use the complete validation data every time and record whether or not the loss has decreased. If it has not for a number of epochs, we stop training, retrieve the best weights, and return them. When in the validation loop, we make sure not to update the model parameters. \n",
        "\n",
        "### Training Function\n",
        "\n",
        "The below function trains the network while monitoring a number of different parameters. We train with early stopping on the validation set. There are a number of parameters that I've tried to explain in the doc string. Hopefully, the comments and background make things somewhat understandable! "
      ]
    },
    {
      "cell_type": "code",
      "execution_count": null,
      "metadata": {
        "colab": {},
        "colab_type": "code",
        "id": "qq3RgJjj2gCX"
      },
      "outputs": [],
      "source": [
        "def train(model,criterion,optimizer,train_loader,valid_loader,save_file_name,\n",
        "          max_epochs_stop=3,n_epochs=20,print_every=1):\n",
        "    \"\"\"Train a PyTorch Model\n",
        "\n",
        "    Params\n",
        "    --------\n",
        "        model (PyTorch model): cnn to train\n",
        "        criterion (PyTorch loss): objective to minimize\n",
        "        optimizer (PyTorch optimizier): optimizer to compute gradients of model parameters\n",
        "        train_loader (PyTorch dataloader): training dataloader to iterate through\n",
        "        valid_loader (PyTorch dataloader): validation dataloader used for early stopping\n",
        "        save_file_name (str ending in '.pt'): file path to save the model state dict\n",
        "        max_epochs_stop (int): maximum number of epochs with no improvement in validation loss for early stopping\n",
        "        n_epochs (int): maximum number of training epochs\n",
        "        print_every (int): frequency of epochs to print training stats\n",
        "\n",
        "    Returns\n",
        "    --------\n",
        "        model (PyTorch model): trained cnn with best weights\n",
        "        history (DataFrame): history of train and validation loss and accuracy\n",
        "    \"\"\"\n",
        "\n",
        "    # Early stopping intialization\n",
        "    epochs_no_improve = 0\n",
        "    valid_loss_min = np.Inf\n",
        "\n",
        "    valid_max_acc = 0\n",
        "    history = []\n",
        "\n",
        "    # Number of epochs already trained (if using loaded in model weights)\n",
        "    try:\n",
        "        print(f'Model has been trained for: {model.epochs} epochs.\\n')\n",
        "    except:\n",
        "        model.epochs = 0\n",
        "        print(f'Starting Training from Scratch.\\n')\n",
        "\n",
        "    overall_start = timer()\n",
        "\n",
        "    # Main loop\n",
        "    for epoch in range(n_epochs):\n",
        "\n",
        "        # keep track of training and validation loss each epoch\n",
        "        train_loss = 0.0\n",
        "        valid_loss = 0.0\n",
        "\n",
        "        train_acc = 0\n",
        "        valid_acc = 0\n",
        "\n",
        "        # Set to training\n",
        "        model.train()\n",
        "        start = timer()\n",
        "\n",
        "        # Training loop\n",
        "        for ii, (data, target) in enumerate(train_loader):\n",
        "            # Tensors to gpu\n",
        "            if train_on_gpu:\n",
        "                data, target = data.cuda(), target.cuda()\n",
        "\n",
        "            # Clear gradients\n",
        "            optimizer.zero_grad()\n",
        "            # Predicted outputs are log probabilities\n",
        "            output = model(data)\n",
        "\n",
        "            # Loss and backpropagation of gradients\n",
        "            loss = criterion(output, target)\n",
        "            loss.backward()\n",
        "\n",
        "            # Update the parameters\n",
        "            optimizer.step()\n",
        "\n",
        "            # Track train loss by multiplying average loss by number of examples in batch\n",
        "            train_loss += loss.item() * data.size(0)\n",
        "\n",
        "            # Calculate accuracy by finding max log probability\n",
        "            _, pred = torch.max(output, dim=1)\n",
        "            correct_tensor = pred.eq(target.data.view_as(pred))\n",
        "            # Need to convert correct tensor from int to float to average\n",
        "            accuracy = torch.mean(correct_tensor.type(torch.FloatTensor))\n",
        "            # Multiply average accuracy times the number of examples in batch\n",
        "            train_acc += accuracy.item() * data.size(0)\n",
        "\n",
        "            # Track training progress\n",
        "            print(\n",
        "                f'Epoch: {epoch}\\t{100 * (ii + 1) / len(train_loader):.2f}% complete. {timer() - start:.2f} seconds elapsed in epoch.',\n",
        "                end='\\r')\n",
        "\n",
        "        # After training loops ends, start validation\n",
        "        else:\n",
        "            model.epochs += 1\n",
        "\n",
        "            # Don't need to keep track of gradients\n",
        "            with torch.no_grad():\n",
        "                # Set to evaluation mode\n",
        "                model.eval()\n",
        "\n",
        "                # Validation loop\n",
        "                for data, target in valid_loader:\n",
        "                    # Tensors to gpu\n",
        "                    if train_on_gpu:\n",
        "                        data, target = data.cuda(), target.cuda()\n",
        "\n",
        "                    # Forward pass\n",
        "                    output = model(data)\n",
        "\n",
        "                    # Validation loss\n",
        "                    loss = criterion(output, target)\n",
        "                    # Multiply average loss times the number of examples in batch\n",
        "                    valid_loss += loss.item() * data.size(0)\n",
        "\n",
        "                    # Calculate validation accuracy\n",
        "                    _, pred = torch.max(output, dim=1)\n",
        "                    correct_tensor = pred.eq(target.data.view_as(pred))\n",
        "                    accuracy = torch.mean(\n",
        "                        correct_tensor.type(torch.FloatTensor))\n",
        "                    # Multiply average accuracy times the number of examples\n",
        "                    valid_acc += accuracy.item() * data.size(0)\n",
        "\n",
        "                # Calculate average losses\n",
        "                train_loss = train_loss / len(train_loader.dataset)\n",
        "                valid_loss = valid_loss / len(valid_loader.dataset)\n",
        "\n",
        "                # Calculate average accuracy\n",
        "                train_acc = train_acc / len(train_loader.dataset)\n",
        "                valid_acc = valid_acc / len(valid_loader.dataset)\n",
        "\n",
        "                history.append([train_loss, valid_loss, train_acc, valid_acc])\n",
        "\n",
        "                # Print training and validation results\n",
        "                if (epoch + 1) % print_every == 0:\n",
        "                    print(\n",
        "                        f'\\nEpoch: {epoch} \\tTraining Loss: {train_loss:.4f} \\tValidation Loss: {valid_loss:.4f}'\n",
        "                    )\n",
        "                    print(\n",
        "                        f'\\t\\tTraining Accuracy: {100 * train_acc:.2f}%\\t Validation Accuracy: {100 * valid_acc:.2f}%'\n",
        "                    )\n",
        "\n",
        "                # Save the model if validation loss decreases\n",
        "                if valid_loss < valid_loss_min:\n",
        "                    # Save model\n",
        "                    torch.save(model.state_dict(), save_file_name)\n",
        "                    # Track improvement\n",
        "                    epochs_no_improve = 0\n",
        "                    valid_loss_min = valid_loss\n",
        "                    valid_best_acc = valid_acc\n",
        "                    best_epoch = epoch\n",
        "\n",
        "                # Otherwise increment count of epochs with no improvement\n",
        "                else:\n",
        "                    epochs_no_improve += 1\n",
        "                    # Trigger early stopping\n",
        "                    if epochs_no_improve >= max_epochs_stop:\n",
        "                        # Load the best state dict\n",
        "                        model.load_state_dict(torch.load(save_file_name))\n",
        "                        # Attach the optimizer\n",
        "                        model.optimizer = optimizer\n",
        "\n",
        "                        # Format history\n",
        "                        history = pd.DataFrame(\n",
        "                            history,\n",
        "                            columns=[\n",
        "                                'train_loss', 'valid_loss', 'train_acc',\n",
        "                                'valid_acc'\n",
        "                            ])\n",
        "                        return model, history\n",
        "\n",
        "    # Attach the optimizer\n",
        "    model.optimizer = optimizer\n",
        "    # Record overall time and print out stats\n",
        "    total_time = timer() - overall_start\n",
        "    print(\n",
        "        f'\\nBest epoch: {best_epoch} with loss: {valid_loss_min:.2f} and acc: {100 * valid_acc:.2f}%'\n",
        "    )\n",
        "    print(\n",
        "        f'{total_time:.2f} total seconds elapsed. {total_time / (epoch):.2f} seconds per epoch.'\n",
        "    )\n",
        "    # Format history\n",
        "    history = pd.DataFrame(\n",
        "        history,\n",
        "        columns=['train_loss', 'valid_loss', 'train_acc', 'valid_acc'])\n",
        "    return model, history"
      ]
    },
    {
      "cell_type": "code",
      "execution_count": 44,
      "metadata": {
        "colab": {
          "base_uri": "https://localhost:8080/",
          "height": 907
        },
        "colab_type": "code",
        "id": "c8VpKEKd2gCc",
        "outputId": "5e4fb534-b697-4cf1-fb96-b19ea8ad8f0c"
      },
      "outputs": [
        {
          "name": "stdout",
          "output_type": "stream",
          "text": [
            "Model has been trained for: 1 epochs.\n",
            "\n",
            "Epoch: 0\t100.00% complete. 0.29 seconds elapsed in epoch.\n",
            "Epoch: 0 \tTraining Loss: 0.2066 \tValidation Loss: 0.4668\n",
            "\t\tTraining Accuracy: 92.59%\t Validation Accuracy: 66.67%\n",
            "Epoch: 1\t100.00% complete. 0.30 seconds elapsed in epoch.\n",
            "Epoch: 1 \tTraining Loss: 0.0550 \tValidation Loss: 0.4473\n",
            "\t\tTraining Accuracy: 100.00%\t Validation Accuracy: 83.33%\n",
            "Epoch: 2\t100.00% complete. 0.29 seconds elapsed in epoch.\n",
            "Epoch: 2 \tTraining Loss: 0.0297 \tValidation Loss: 0.3187\n",
            "\t\tTraining Accuracy: 100.00%\t Validation Accuracy: 83.33%\n",
            "Epoch: 3\t100.00% complete. 0.31 seconds elapsed in epoch.\n",
            "Epoch: 3 \tTraining Loss: 0.0689 \tValidation Loss: 0.6172\n",
            "\t\tTraining Accuracy: 96.30%\t Validation Accuracy: 83.33%\n",
            "\n",
            "Epoch: 4 \tTraining Loss: 0.1268 \tValidation Loss: 1.0140\n",
            "\t\tTraining Accuracy: 96.30%\t Validation Accuracy: 66.67%\n",
            "Epoch: 5\t100.00% complete. 0.22 seconds elapsed in epoch.\n",
            "Epoch: 5 \tTraining Loss: 0.2649 \tValidation Loss: 0.4961\n",
            "\t\tTraining Accuracy: 88.89%\t Validation Accuracy: 83.33%\n",
            "Epoch: 6\t100.00% complete. 0.22 seconds elapsed in epoch.\n",
            "Epoch: 6 \tTraining Loss: 0.0516 \tValidation Loss: 0.6269\n",
            "\t\tTraining Accuracy: 96.30%\t Validation Accuracy: 66.67%\n",
            "\n",
            "Epoch: 7 \tTraining Loss: 0.3902 \tValidation Loss: 0.1200\n",
            "\t\tTraining Accuracy: 96.30%\t Validation Accuracy: 100.00%\n",
            "Epoch: 8\t100.00% complete. 0.28 seconds elapsed in epoch.\n",
            "Epoch: 8 \tTraining Loss: 0.1043 \tValidation Loss: 0.1379\n",
            "\t\tTraining Accuracy: 96.30%\t Validation Accuracy: 100.00%\n",
            "Epoch: 9\t100.00% complete. 0.21 seconds elapsed in epoch.\n",
            "Epoch: 9 \tTraining Loss: 0.2114 \tValidation Loss: 0.4021\n",
            "\t\tTraining Accuracy: 92.59%\t Validation Accuracy: 66.67%\n",
            "\n",
            "Epoch: 10 \tTraining Loss: 0.0025 \tValidation Loss: 0.0872\n",
            "\t\tTraining Accuracy: 100.00%\t Validation Accuracy: 100.00%\n",
            "Epoch: 11\t100.00% complete. 0.29 seconds elapsed in epoch.\n",
            "Epoch: 11 \tTraining Loss: 0.0688 \tValidation Loss: 2.6903\n",
            "\t\tTraining Accuracy: 96.30%\t Validation Accuracy: 50.00%\n",
            "Epoch: 12\t100.00% complete. 0.21 seconds elapsed in epoch.\n",
            "Epoch: 12 \tTraining Loss: 0.0092 \tValidation Loss: 2.0230\n",
            "\t\tTraining Accuracy: 100.00%\t Validation Accuracy: 50.00%\n",
            "Epoch: 13\t100.00% complete. 0.21 seconds elapsed in epoch.\n",
            "Epoch: 13 \tTraining Loss: 0.0015 \tValidation Loss: 1.2501\n",
            "\t\tTraining Accuracy: 100.00%\t Validation Accuracy: 66.67%\n",
            "Epoch: 14\t100.00% complete. 0.21 seconds elapsed in epoch.\n",
            "Epoch: 14 \tTraining Loss: 0.0010 \tValidation Loss: 0.8718\n",
            "\t\tTraining Accuracy: 100.00%\t Validation Accuracy: 66.67%\n",
            "Epoch: 15\t100.00% complete. 0.21 seconds elapsed in epoch.\n",
            "Epoch: 15 \tTraining Loss: 0.0001 \tValidation Loss: 0.7391\n",
            "\t\tTraining Accuracy: 100.00%\t Validation Accuracy: 66.67%\n",
            "\n",
            "Early Stopping! Total epochs: 15. Best epoch: 10 with loss: 0.09 and acc: 66.67%\n",
            "22.90 total seconds elapsed. 1.43 seconds per epoch.\n"
          ]
        }
      ],
      "source": [
        "model, history = train(\n",
        "    model,\n",
        "    criterion,\n",
        "    optimizer,\n",
        "    dataloaders['train'],\n",
        "    dataloaders['val'],\n",
        "    save_file_name=save_file_name,\n",
        "    max_epochs_stop=5,\n",
        "    n_epochs=30,\n",
        "    print_every=1)"
      ]
    },
    {
      "cell_type": "markdown",
      "metadata": {
        "colab_type": "text",
        "id": "cDgmbBr02gCh"
      },
      "source": [
        "# Training Results\n",
        "\n",
        "We can inspect the training progress by looking at the `history`. "
      ]
    },
    {
      "cell_type": "code",
      "execution_count": 45,
      "metadata": {
        "colab": {
          "base_uri": "https://localhost:8080/",
          "height": 421
        },
        "colab_type": "code",
        "id": "6lZ2a9Ax2gCk",
        "outputId": "bf467132-86aa-4986-a110-70d0208c6afd"
      },
      "outputs": [
        {
          "data": {
            "text/plain": [
              "Text(0.5, 1.0, 'Training and Validation Losses')"
            ]
          },
          "execution_count": 45,
          "metadata": {
            "tags": []
          },
          "output_type": "execute_result"
        },
        {
          "data": {
            "image/png": "[encoded data removed]",
            "text/plain": [
              "<Figure size 576x432 with 1 Axes>"
            ]
          },
          "metadata": {
            "tags": []
          },
          "output_type": "display_data"
        }
      ],
      "source": [
        "plt.figure(figsize=(8, 6))\n",
        "for c in ['train_loss', 'valid_loss']:\n",
        "    plt.plot(\n",
        "        history[c], label=c)\n",
        "plt.legend()\n",
        "plt.xlabel('Epoch')\n",
        "plt.ylabel('Average Negative Log Likelihood')\n",
        "plt.title('Training and Validation Losses')"
      ]
    },
    {
      "cell_type": "markdown",
      "metadata": {
        "colab_type": "text",
        "id": "QfjDW2sd2gCn"
      },
      "source": [
        "As expected, the training loss decreases continually with epochs. At a certain point however, the validation loss stops decreasing. There is not a massive amount of overfitting, likely because we were using Dropout. With the divergence in losses, there is likely not much more to gain from further training."
      ]
    },
    {
      "cell_type": "code",
      "execution_count": 46,
      "metadata": {
        "colab": {
          "base_uri": "https://localhost:8080/",
          "height": 421
        },
        "colab_type": "code",
        "id": "Zhmq6Eu72gCo",
        "outputId": "b581118c-e89d-45fa-c33c-a1e689577717"
      },
      "outputs": [
        {
          "data": {
            "text/plain": [
              "Text(0.5, 1.0, 'Training and Validation Accuracy')"
            ]
          },
          "execution_count": 46,
          "metadata": {
            "tags": []
          },
          "output_type": "execute_result"
        },
        {
          "data": {
            "image/png": "[encoded data removed]",
            "text/plain": [
              "<Figure size 576x432 with 1 Axes>"
            ]
          },
          "metadata": {
            "tags": []
          },
          "output_type": "display_data"
        }
      ],
      "source": [
        "plt.figure(figsize=(8, 6))\n",
        "for c in ['train_acc', 'valid_acc']:\n",
        "    plt.plot(\n",
        "        100 * history[c], label=c)\n",
        "plt.legend()\n",
        "plt.xlabel('Epoch')\n",
        "plt.ylabel('Average Accuracy')\n",
        "plt.title('Training and Validation Accuracy')"
      ]
    },
    {
      "cell_type": "markdown",
      "metadata": {
        "colab_type": "text",
        "id": "HVgvaLV72gCu"
      },
      "source": [
        "As with the losses, the training accuracy increases (nearly to perfect) while the validation accuracy plateaus. The model is able to achieve above 80% accuracy right away, an indication that the convolution weights learned on Imagenet were able to easily transfer to our dataset."
      ]
    },
    {
      "cell_type": "markdown",
      "metadata": {
        "colab_type": "text",
        "id": "zCtgG5da2gCu"
      },
      "source": [
        "# Saving Model\n",
        "\n",
        "The `train` function saves the best model `state_dict()` which are the weights of the model. To save more information about the model, we use the below function. "
      ]
    },
    {
      "cell_type": "code",
      "execution_count": null,
      "metadata": {
        "colab": {},
        "colab_type": "code",
        "id": "l00_LAZi2gCv"
      },
      "outputs": [],
      "source": [
        "def save_checkpoint(model, path):\n",
        "    \"\"\"Save a PyTorch model checkpoint\n",
        "\n",
        "    Params\n",
        "    --------\n",
        "        model (PyTorch model): model to save\n",
        "        path (str): location to save model. Must start with `model_name-` and end in '.pth'\n",
        "\n",
        "    Returns\n",
        "    --------\n",
        "        None, save the `model` to `path`\n",
        "\n",
        "    \"\"\"\n",
        "\n",
        "    model_name = path.split('-')[0]\n",
        "    assert (model_name in ['vgg16', 'resnet50']), \"Path must have the correct model name\"\n",
        "\n",
        "    # Basic details\n",
        "    checkpoint = {\n",
        "        'class_to_idx': model.class_to_idx,\n",
        "        'idx_to_class': model.idx_to_class,\n",
        "        'epochs': model.epochs,\n",
        "    }\n",
        "\n",
        "    # Extract the final classifier and the state dictionary\n",
        "    if model_name == 'vgg16':\n",
        "        # Check to see if model was parallelized\n",
        "        if multi_gpu:\n",
        "            checkpoint['classifier'] = model.module.classifier\n",
        "            checkpoint['state_dict'] = model.module.state_dict()\n",
        "        else:\n",
        "            checkpoint['classifier'] = model.classifier\n",
        "            checkpoint['state_dict'] = model.state_dict()\n",
        "\n",
        "    elif model_name == 'resnet50':\n",
        "        if multi_gpu:\n",
        "            checkpoint['fc'] = model.module.fc\n",
        "            checkpoint['state_dict'] = model.module.state_dict()\n",
        "        else:\n",
        "            checkpoint['fc'] = model.fc\n",
        "            checkpoint['state_dict'] = model.state_dict()\n",
        "\n",
        "    # Add the optimizer\n",
        "    checkpoint['optimizer'] = model.optimizer\n",
        "    checkpoint['optimizer_state_dict'] = model.optimizer.state_dict()\n",
        "\n",
        "    # Save the data to the path\n",
        "    torch.save(checkpoint, path)"
      ]
    },
    {
      "cell_type": "code",
      "execution_count": null,
      "metadata": {
        "colab": {},
        "colab_type": "code",
        "id": "HDaocFe-2gCw"
      },
      "outputs": [],
      "source": [
        "save_checkpoint(model, path=checkpoint_path)"
      ]
    },
    {
      "cell_type": "markdown",
      "metadata": {
        "colab_type": "text",
        "id": "GoUKTQCs2gCy"
      },
      "source": [
        "## Load in a Checkpoint\n",
        "\n",
        "Now we need to write the function to load in the checkpoint. This just takes in a `path` and returns a model from a saved checkpoint."
      ]
    },
    {
      "cell_type": "code",
      "execution_count": null,
      "metadata": {
        "colab": {},
        "colab_type": "code",
        "id": "1YUFhXs-2gCy"
      },
      "outputs": [],
      "source": [
        "def load_checkpoint(path):\n",
        "    \"\"\"Load a PyTorch model checkpoint\n",
        "\n",
        "    Params\n",
        "    --------\n",
        "        path (str): saved model checkpoint. Must start with `model_name-` and end in '.pth'\n",
        "\n",
        "    Returns\n",
        "    --------\n",
        "        None, save the `model` to `path`\n",
        "\n",
        "    \"\"\"\n",
        "\n",
        "    # Get the model name\n",
        "    model_name = path.split('-')[0]\n",
        "    assert (model_name in ['vgg16', 'resnet50'\n",
        "                           ]), \"Path must have the correct model name\"\n",
        "\n",
        "    # Load in checkpoint\n",
        "    checkpoint = torch.load(path)\n",
        "\n",
        "    if model_name == 'vgg16':\n",
        "        model = models.vgg16(pretrained=True)\n",
        "        # Make sure to set parameters as not trainable\n",
        "        for param in model.parameters():\n",
        "            param.requires_grad = False\n",
        "        model.classifier = checkpoint['classifier']\n",
        "\n",
        "\n",
        "    # Load in the state dict\n",
        "    model.load_state_dict(checkpoint['state_dict'])\n",
        "\n",
        "    total_params = sum(p.numel() for p in model.parameters())\n",
        "    print(f'{total_params:,} total parameters.')\n",
        "    total_trainable_params = sum(\n",
        "        p.numel() for p in model.parameters() if p.requires_grad)\n",
        "    print(f'{total_trainable_params:,} total gradient parameters.')\n",
        "\n",
        "    # Move to gpu\n",
        "    if train_on_gpu:\n",
        "        model = model.to('cuda')\n",
        "\n",
        "    # Model basics\n",
        "    model.class_to_idx = checkpoint['class_to_idx']\n",
        "    model.idx_to_class = checkpoint['idx_to_class']\n",
        "    model.epochs = checkpoint['epochs']\n",
        "\n",
        "    # Optimizer\n",
        "    optimizer = checkpoint['optimizer']\n",
        "    optimizer.load_state_dict(checkpoint['optimizer_state_dict'])\n",
        "\n",
        "    return model, optimizer"
      ]
    },
    {
      "cell_type": "code",
      "execution_count": 52,
      "metadata": {
        "colab": {
          "base_uri": "https://localhost:8080/",
          "height": 991
        },
        "colab_type": "code",
        "id": "cTBemifF2gC2",
        "outputId": "5085ccfb-28be-49a0-a264-fffdb46aea5d"
      },
      "outputs": [
        {
          "name": "stdout",
          "output_type": "stream",
          "text": [
            "135,309,890 total parameters.\n",
            "1,049,346 total gradient parameters.\n",
            "----------------------------------------------------------------\n",
            "        Layer (type)               Output Shape         Param #\n",
            "================================================================\n",
            "            Conv2d-1          [1, 64, 224, 224]           1,792\n",
            "              ReLU-2          [1, 64, 224, 224]               0\n",
            "            Conv2d-3          [1, 64, 224, 224]          36,928\n",
            "              ReLU-4          [1, 64, 224, 224]               0\n",
            "         MaxPool2d-5          [1, 64, 112, 112]               0\n",
            "            Conv2d-6         [1, 128, 112, 112]          73,856\n",
            "              ReLU-7         [1, 128, 112, 112]               0\n",
            "            Conv2d-8         [1, 128, 112, 112]         147,584\n",
            "              ReLU-9         [1, 128, 112, 112]               0\n",
            "        MaxPool2d-10           [1, 128, 56, 56]               0\n",
            "           Conv2d-11           [1, 256, 56, 56]         295,168\n",
            "             ReLU-12           [1, 256, 56, 56]               0\n",
            "           Conv2d-13           [1, 256, 56, 56]         590,080\n",
            "             ReLU-14           [1, 256, 56, 56]               0\n",
            "           Conv2d-15           [1, 256, 56, 56]         590,080\n",
            "             ReLU-16           [1, 256, 56, 56]               0\n",
            "        MaxPool2d-17           [1, 256, 28, 28]               0\n",
            "           Conv2d-18           [1, 512, 28, 28]       1,180,160\n",
            "             ReLU-19           [1, 512, 28, 28]               0\n",
            "           Conv2d-20           [1, 512, 28, 28]       2,359,808\n",
            "             ReLU-21           [1, 512, 28, 28]               0\n",
            "           Conv2d-22           [1, 512, 28, 28]       2,359,808\n",
            "             ReLU-23           [1, 512, 28, 28]               0\n",
            "        MaxPool2d-24           [1, 512, 14, 14]               0\n",
            "           Conv2d-25           [1, 512, 14, 14]       2,359,808\n",
            "             ReLU-26           [1, 512, 14, 14]               0\n",
            "           Conv2d-27           [1, 512, 14, 14]       2,359,808\n",
            "             ReLU-28           [1, 512, 14, 14]               0\n",
            "           Conv2d-29           [1, 512, 14, 14]       2,359,808\n",
            "             ReLU-30           [1, 512, 14, 14]               0\n",
            "        MaxPool2d-31             [1, 512, 7, 7]               0\n",
            "AdaptiveAvgPool2d-32             [1, 512, 7, 7]               0\n",
            "           Linear-33                  [1, 4096]     102,764,544\n",
            "             ReLU-34                  [1, 4096]               0\n",
            "          Dropout-35                  [1, 4096]               0\n",
            "           Linear-36                  [1, 4096]      16,781,312\n",
            "             ReLU-37                  [1, 4096]               0\n",
            "          Dropout-38                  [1, 4096]               0\n",
            "           Linear-39                   [1, 256]       1,048,832\n",
            "             ReLU-40                   [1, 256]               0\n",
            "          Dropout-41                   [1, 256]               0\n",
            "           Linear-42                     [1, 2]             514\n",
            "       LogSoftmax-43                     [1, 2]               0\n",
            "================================================================\n",
            "Total params: 135,309,890\n",
            "Trainable params: 1,049,346\n",
            "Non-trainable params: 134,260,544\n",
            "----------------------------------------------------------------\n",
            "Input size (MB): 0.57\n",
            "Forward/backward pass size (MB): 218.78\n",
            "Params size (MB): 516.17\n",
            "Estimated Total Size (MB): 735.52\n",
            "----------------------------------------------------------------\n"
          ]
        }
      ],
      "source": [
        "model, optimizer = load_checkpoint(path=checkpoint_path)\n",
        "\n",
        "if multi_gpu:\n",
        "    summary(model.module, input_size=(3, 224, 224), batch_size=batch_size)\n",
        "else:\n",
        "    summary(model, input_size=(3, 224, 224), batch_size=batch_size)"
      ]
    },
    {
      "cell_type": "markdown",
      "metadata": {
        "colab_type": "text",
        "id": "AnONZYgd2gC4"
      },
      "source": [
        "We can now use these two functions to save and load in a complete model. We can use this model to continue training. "
      ]
    },
    {
      "cell_type": "code",
      "execution_count": 54,
      "metadata": {
        "colab": {
          "base_uri": "https://localhost:8080/",
          "height": 706
        },
        "colab_type": "code",
        "id": "bZS9Gmqo2gC5",
        "outputId": "80f4fce5-eb45-424e-ad1b-350a9c695bec"
      },
      "outputs": [
        {
          "name": "stdout",
          "output_type": "stream",
          "text": [
            "Model has been trained for: 24 epochs.\n",
            "\n",
            "Epoch: 0\t100.00% complete. 0.31 seconds elapsed in epoch.\n",
            "Epoch: 0 \tTraining Loss: 0.0004 \tValidation Loss: 0.8098\n",
            "\t\tTraining Accuracy: 100.00%\t Validation Accuracy: 50.00%\n",
            "Epoch: 1\t100.00% complete. 0.30 seconds elapsed in epoch.\n",
            "Epoch: 1 \tTraining Loss: 0.0055 \tValidation Loss: 0.5235\n",
            "\t\tTraining Accuracy: 100.00%\t Validation Accuracy: 66.67%\n",
            "Epoch: 2\t100.00% complete. 0.31 seconds elapsed in epoch.\n",
            "Epoch: 2 \tTraining Loss: 0.0000 \tValidation Loss: 0.4898\n",
            "\t\tTraining Accuracy: 100.00%\t Validation Accuracy: 66.67%\n",
            "Epoch: 3\t100.00% complete. 0.31 seconds elapsed in epoch.\n",
            "Epoch: 3 \tTraining Loss: 0.2212 \tValidation Loss: 2.2144\n",
            "\t\tTraining Accuracy: 92.59%\t Validation Accuracy: 50.00%\n",
            "\n",
            "Epoch: 4 \tTraining Loss: 0.0002 \tValidation Loss: 0.8495\n",
            "\t\tTraining Accuracy: 100.00%\t Validation Accuracy: 66.67%\n",
            "Epoch: 5\t100.00% complete. 0.26 seconds elapsed in epoch.\n",
            "Epoch: 5 \tTraining Loss: 0.1723 \tValidation Loss: 2.5555\n",
            "\t\tTraining Accuracy: 96.30%\t Validation Accuracy: 50.00%\n",
            "Epoch: 6\t100.00% complete. 0.22 seconds elapsed in epoch.\n",
            "Epoch: 6 \tTraining Loss: 0.0414 \tValidation Loss: 0.4388\n",
            "\t\tTraining Accuracy: 96.30%\t Validation Accuracy: 83.33%\n",
            "Epoch: 7\t100.00% complete. 0.30 seconds elapsed in epoch.\n",
            "Epoch: 7 \tTraining Loss: 0.0006 \tValidation Loss: 0.6973\n",
            "\t\tTraining Accuracy: 100.00%\t Validation Accuracy: 83.33%\n",
            "\n",
            "Epoch: 8 \tTraining Loss: 0.0000 \tValidation Loss: 0.7746\n",
            "\t\tTraining Accuracy: 100.00%\t Validation Accuracy: 83.33%\n",
            "Epoch: 9\t100.00% complete. 0.22 seconds elapsed in epoch.\n",
            "Epoch: 9 \tTraining Loss: 0.0000 \tValidation Loss: 0.7076\n",
            "\t\tTraining Accuracy: 100.00%\t Validation Accuracy: 83.33%\n",
            "Epoch: 10\t100.00% complete. 0.22 seconds elapsed in epoch.\n",
            "Epoch: 10 \tTraining Loss: 0.0019 \tValidation Loss: 0.4756\n",
            "\t\tTraining Accuracy: 100.00%\t Validation Accuracy: 66.67%\n",
            "Epoch: 11\t100.00% complete. 0.21 seconds elapsed in epoch.\n",
            "Epoch: 11 \tTraining Loss: 0.0001 \tValidation Loss: 0.4789\n",
            "\t\tTraining Accuracy: 100.00%\t Validation Accuracy: 66.67%\n",
            "\n",
            "Early Stopping! Total epochs: 11. Best epoch: 6 with loss: 0.44 and acc: 66.67%\n",
            "15.89 total seconds elapsed. 1.32 seconds per epoch.\n"
          ]
        }
      ],
      "source": [
        "model, history = train(model,criterion,optimizer,dataloaders['train'],dataloaders['val'],\n",
        "                       save_file_name=save_file_name,max_epochs_stop=5,n_epochs=30,print_every=1)"
      ]
    },
    {
      "cell_type": "markdown",
      "metadata": {
        "colab_type": "text",
        "id": "vqkeXpF92gC8"
      },
      "source": [
        "Further training is unlikely to improve the validation results"
      ]
    }
  ],
  "metadata": {
    "accelerator": "GPU",
    "colab": {
      "name": "Transfer Learning in PyTorch.ipynb",
      "provenance": [],
      "toc_visible": true,
      "version": "0.3.2"
    },
    "kernelspec": {
      "display_name": "Python 3",
      "name": "python3"
    },
    "language_info": {
      "codemirror_mode": {
        "name": "ipython",
        "version": 3
      },
      "file_extension": ".py",
      "mimetype": "text/x-python",
      "name": "python",
      "nbconvert_exporter": "python",
      "pygments_lexer": "ipython3",
      "version": "3.6.6"
    }
  },
  "nbformat": 4,
  "nbformat_minor": 0
}
