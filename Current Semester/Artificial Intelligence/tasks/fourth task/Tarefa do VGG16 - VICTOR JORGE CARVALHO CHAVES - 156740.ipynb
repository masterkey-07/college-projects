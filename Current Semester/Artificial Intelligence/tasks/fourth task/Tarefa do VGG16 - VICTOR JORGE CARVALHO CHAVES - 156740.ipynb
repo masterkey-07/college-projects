{
 "cells": [
  {
   "cell_type": "markdown",
   "metadata": {},
   "source": [
    "# Importação de Pacotes"
   ]
  },
  {
   "cell_type": "code",
   "execution_count": 1,
   "metadata": {},
   "outputs": [],
   "source": [
    "# PyTorch\n",
    "from torchvision import transforms, datasets, models\n",
    "import torch\n",
    "from torch import optim, cuda\n",
    "from torch.utils.data import DataLoader\n",
    "import torch.nn as nn\n",
    "\n",
    "import warnings\n",
    "\n",
    "warnings.filterwarnings('ignore', category=FutureWarning)\n",
    "\n",
    "# Ferramentas para Ciência de Dados\n",
    "import numpy as np\n",
    "import pandas as pd\n",
    "import os\n",
    "\n",
    "\n",
    "# Manipulação de Imagem\n",
    "from PIL import Image\n",
    "\n",
    "# Visualização\n",
    "import matplotlib.pyplot as plt\n",
    "from tqdm import tqdm\n",
    "%matplotlib inline\n"
   ]
  },
  {
   "cell_type": "markdown",
   "metadata": {},
   "source": [
    "# Definição de Constantes Globais"
   ]
  },
  {
   "cell_type": "code",
   "execution_count": 30,
   "metadata": {},
   "outputs": [],
   "source": [
    "SPLITTED_IMAGES = './splitted_images/'\n",
    "TRAIN_IMAGES = './splitted_images/train/'\n",
    "TEST_IMAGES = './splitted_images/test/'\n",
    "\n",
    "HAS_SPLITTED_IMAGES = len(os.listdir(SPLITTED_IMAGES)) > 0\n",
    "\n",
    "BATCH_SIZE = 32\n",
    "\n",
    "IS_CUDA_AVAILABLE = cuda.is_available()\n",
    "\n",
    "HAS_MULTIPLE_GPU = True if IS_CUDA_AVAILABLE and cuda.device_count() > 1 else False\n",
    "\n",
    "NUMBER_OF_EPOCHS = 3\n",
    "\n",
    "DEVICE = 'cuda' if IS_CUDA_AVAILABLE else 'cpu'\n",
    "\n",
    "MAX_EPOCHS_WITHOUT_IMPROVEMENT = 5"
   ]
  },
  {
   "cell_type": "markdown",
   "metadata": {},
   "source": [
    "# Pré Processamento de Imagem e Aumento de Dados"
   ]
  },
  {
   "cell_type": "code",
   "execution_count": 23,
   "metadata": {},
   "outputs": [],
   "source": [
    "# Image transformations\n",
    "\n",
    "train_transformer = transforms.Compose([\n",
    "    transforms.RandomResizedCrop(size=200, scale=(0.8, 1.0)),\n",
    "    transforms.RandomRotation(degrees=30),\n",
    "    transforms.ColorJitter(),\n",
    "    transforms.RandomHorizontalFlip(),\n",
    "    transforms.CenterCrop(size=64),  # Image net standards\n",
    "    transforms.ToTensor(),\n",
    "    transforms.Normalize([0.485, 0.456, 0.406], [0.229, 0.224, 0.225])  # Imagenet standards\n",
    "])\n",
    "\n",
    "test_transformer = transforms.Compose([\n",
    "    transforms.Resize(size=64),\n",
    "    transforms.CenterCrop(size=180),\n",
    "    transforms.ToTensor(),\n",
    "    transforms.Normalize([0.485, 0.456, 0.406], [0.229, 0.224, 0.225])\n",
    "])"
   ]
  },
  {
   "cell_type": "markdown",
   "metadata": {},
   "source": [
    "# Preparação dos Datasets das Imagens"
   ]
  },
  {
   "cell_type": "code",
   "execution_count": 24,
   "metadata": {},
   "outputs": [],
   "source": [
    "# Datasets from each folder\n",
    "train_datasets = datasets.ImageFolder(root=TRAIN_IMAGES, transform=train_transformer)\n",
    "test_datasets = datasets.ImageFolder(root=TEST_IMAGES, transform=test_transformer)\n",
    "\n",
    "# Class Mappers\n",
    "class_to_idx = train_datasets.class_to_idx\n",
    "idx_to_class = {\n",
    "    idx: class_ for class_, idx in class_to_idx.items()\n",
    "}\n",
    "\n",
    "# Dataloader iterators\n",
    "train_datasets_loader = DataLoader(train_datasets, batch_size=BATCH_SIZE, shuffle=True)\n",
    "test_datasets_loader = DataLoader(test_datasets, batch_size=BATCH_SIZE, shuffle=True)"
   ]
  },
  {
   "cell_type": "markdown",
   "metadata": {},
   "source": [
    "# Carregamento do Modelo VGG16 com ou sem pré treinamento."
   ]
  },
  {
   "cell_type": "code",
   "execution_count": 11,
   "metadata": {},
   "outputs": [
    {
     "name": "stderr",
     "output_type": "stream",
     "text": [
      "/home/vjchave/.asdf/installs/python/3.11.0/lib/python3.11/site-packages/torchvision/models/_utils.py:208: UserWarning: The parameter 'pretrained' is deprecated since 0.13 and may be removed in the future, please use 'weights' instead.\n",
      "  warnings.warn(\n",
      "/home/vjchave/.asdf/installs/python/3.11.0/lib/python3.11/site-packages/torchvision/models/_utils.py:223: UserWarning: Arguments other than a weight enum or `None` for 'weights' are deprecated since 0.13 and may be removed in the future. The current behavior is equivalent to passing `weights=VGG16_Weights.IMAGENET1K_V1`. You can also use `weights=VGG16_Weights.DEFAULT` to get the most up-to-date weights.\n",
      "  warnings.warn(msg)\n"
     ]
    },
    {
     "name": "stdout",
     "output_type": "stream",
     "text": [
      "0.weight\n",
      "0.bias\n",
      "2.weight\n",
      "2.bias\n",
      "5.weight\n",
      "5.bias\n",
      "7.weight\n",
      "7.bias\n",
      "10.weight\n",
      "10.bias\n",
      "12.weight\n",
      "12.bias\n",
      "14.weight\n",
      "14.bias\n",
      "17.weight\n",
      "17.bias\n",
      "19.weight\n",
      "19.bias\n",
      "21.weight\n",
      "21.bias\n",
      "24.weight\n",
      "24.bias\n",
      "26.weight\n",
      "26.bias\n",
      "28.weight\n",
      "28.bias\n"
     ]
    }
   ],
   "source": [
    "def get_vgg16(pretrained:bool=True):\n",
    "    vgg16_model = models.vgg16(pretrained=pretrained)\n",
    "\n",
    "    vgg16_model.class_to_idx = class_to_idx\n",
    "    vgg16_model.idx_to_class = idx_to_class\n",
    "\n",
    "    vgg16_model.classifier[6] = nn.Linear(in_features=4096, out_features=21)\n",
    "\n",
    "    if IS_CUDA_AVAILABLE:\n",
    "        vgg16_model = vgg16_model.to('cuda')\n",
    "    \n",
    "    return vgg16_model"
   ]
  },
  {
   "cell_type": "markdown",
   "metadata": {},
   "source": [
    "# Definição da Função de Perda"
   ]
  },
  {
   "cell_type": "code",
   "execution_count": 26,
   "metadata": {},
   "outputs": [],
   "source": [
    "cross_entropy_criterion = nn.CrossEntropyLoss() "
   ]
  },
  {
   "cell_type": "markdown",
   "metadata": {},
   "source": [
    "# Definição do Otimizador"
   ]
  },
  {
   "cell_type": "code",
   "execution_count": 12,
   "metadata": {},
   "outputs": [],
   "source": [
    "def get_simple_optimizer(model:models.VGG):\n",
    "    return optim.SGD(model.parameters(), lr=0.001, momentum=0.9)\n",
    "\n",
    "\n",
    "def get_partial_thawed_optimizer(model:models.VGG):\n",
    "    for param in model.features.parameters():\n",
    "        param.requires_grad = False\n",
    "\n",
    "    for param in model.features.parameters():\n",
    "        param.requires_grad = False\n",
    "\n",
    "    for param in model.classifier.parameters():\n",
    "        param.requires_grad = True\n",
    "\n",
    "    parameters_to_optimize = filter(lambda param: param.requires_grad, model.parameters())\n",
    "        \n",
    "    return optim.SGD(parameters_to_optimize, lr=0.001, momentum=0.9)\n",
    "\n",
    "def get_fully_thawed_optimizer(model:models.VGG):\n",
    "    for param in model.features.parameters():\n",
    "        param.requires_grad = False\n",
    "\n",
    "    for param in model.classifier.parameters():\n",
    "        param.requires_grad = True\n",
    "\n",
    "    for name, param in model.features.named_parameters():\n",
    "        if '28' in name:\n",
    "            param.requires_grad = True\n",
    "\n",
    "    parameters_to_optimize = filter(lambda param: param.requires_grad, model.parameters())\n",
    "\n",
    "    return optim.SGD(parameters_to_optimize, lr=0.001, momentum=0.9)"
   ]
  },
  {
   "cell_type": "markdown",
   "metadata": {},
   "source": [
    "# Definição do Treinamento"
   ]
  },
  {
   "cell_type": "code",
   "execution_count": 32,
   "metadata": {},
   "outputs": [],
   "source": [
    "def train_vgg16_model(vgg16_model:models.VGG, optimizer:optim.SGD, file_name:str):\n",
    "    train_losses = []\n",
    "    test_losses = []\n",
    "\n",
    "    train_accuracies = []\n",
    "    test_accuracies = []\n",
    "    \n",
    "    epochs_without_improve = 0\n",
    "  \n",
    "    minimum_test_loss = np.Inf\n",
    "  \n",
    "    for epoch in range(NUMBER_OF_EPOCHS):\n",
    "        vgg16_model.train()\n",
    "\n",
    "        train_loss = 0.0\n",
    "        test_loss = 0.0\n",
    "\n",
    "        train_accuracy = 0\n",
    "        test_accuracy = 0\n",
    "\n",
    "        for images, labels in tqdm(train_datasets_loader, desc=f'(train) Epoch {epoch+1}/{NUMBER_OF_EPOCHS}', unit='batch'):\n",
    "            images = images.to(DEVICE)\n",
    "            labels = labels.to(DEVICE)\n",
    "            \n",
    "            optimizer.zero_grad()\n",
    "            \n",
    "            outputs = vgg16_model(images)\n",
    "            \n",
    "            loss = cross_entropy_criterion(outputs, labels)\n",
    "            \n",
    "            train_loss += loss.item() * images.size(0)\n",
    "            \n",
    "            _, prediction = torch.max(outputs, dim=1)\n",
    "\n",
    "            correct_tensor = prediction.eq(labels.data.view_as(prediction))\n",
    "\n",
    "            accuracy = torch.mean(correct_tensor.type(torch.FloatTensor))\n",
    "\n",
    "            train_accuracy += accuracy.item() * images.size(0)\n",
    "            \n",
    "            loss.backward()\n",
    "            \n",
    "            optimizer.step()\n",
    "\n",
    "        vgg16_model.eval()  # Muda o modelo para o modo de avaliação\n",
    "\n",
    "        for images, labels in tqdm(test_datasets_loader, desc=f'(valid) Epoch {epoch+1}/{NUMBER_OF_EPOCHS}', unit='batch'):\n",
    "            images = images.to(DEVICE)\n",
    "            labels = labels.to(DEVICE)\n",
    "\n",
    "            with torch.no_grad():  # Desativar o cálculo dos gradientes durante a fase de teste\n",
    "                outputs = vgg16_model(images)\n",
    "                \n",
    "                loss = cross_entropy_criterion(outputs, labels)\n",
    "                \n",
    "                test_loss += loss.item() * images.size(0)\n",
    "        \n",
    "                _, prediction = torch.max(outputs, dim=1)\n",
    "                correct_tensor = prediction.eq(labels.data.view_as(prediction))\n",
    "                accuracy = torch.mean(correct_tensor.type(torch.FloatTensor))\n",
    "\n",
    "                test_accuracy += accuracy.item() * images.size(0)\n",
    "\n",
    "        \n",
    "        train_loss = train_loss / len(train_datasets_loader.dataset)\n",
    "        test_loss = test_loss / len(test_datasets_loader.dataset)\n",
    "\n",
    "        # Calculate average accuracy\n",
    "        train_accuracy = train_accuracy / len(train_datasets_loader.dataset)\n",
    "        test_accuracy = test_accuracy / len(test_datasets_loader.dataset)\n",
    "\n",
    "        train_losses.append(train_loss)\n",
    "        test_losses.append(test_loss)\n",
    "        train_accuracies.append(train_accuracy)\n",
    "        test_accuracies.append(test_accuracy)\n",
    "\n",
    "        if test_loss < minimum_test_loss:\n",
    "            torch.save(vgg16_model.state_dict(), file_name)\n",
    "            epochs_without_improve = 0\n",
    "            minimum_test_loss = test_loss\n",
    "\n",
    "        # Otherwise increment count of epochs with no improvement\n",
    "        else:\n",
    "            epochs_without_improve += 1\n",
    "            # Trigger early stopping\n",
    "            if epochs_without_improve >= MAX_EPOCHS_WITHOUT_IMPROVEMENT:\n",
    "                # Load the best state dict\n",
    "                vgg16_model.load_state_dict(torch.load(file_name))\n",
    "\n",
    "                break\n",
    "\n",
    "    return {\n",
    "            'model': vgg16_model,\n",
    "            'train': {\n",
    "                'losses': train_losses,\n",
    "                'accuracies': train_accuracies,\n",
    "            },\n",
    "            'valid': {\n",
    "                'losses': test_losses,\n",
    "                'accuracies': test_accuracies,\n",
    "            }\n",
    "        }"
   ]
  },
  {
   "cell_type": "markdown",
   "metadata": {},
   "source": [
    "# Treinamento From Scratch sem Pré Treinamento"
   ]
  },
  {
   "cell_type": "code",
   "execution_count": 28,
   "metadata": {},
   "outputs": [
    {
     "name": "stderr",
     "output_type": "stream",
     "text": [
      "/home/vjchave/.asdf/installs/python/3.11.0/lib/python3.11/site-packages/torchvision/models/_utils.py:208: UserWarning: The parameter 'pretrained' is deprecated since 0.13 and may be removed in the future, please use 'weights' instead.\n",
      "  warnings.warn(\n",
      "/home/vjchave/.asdf/installs/python/3.11.0/lib/python3.11/site-packages/torchvision/models/_utils.py:223: UserWarning: Arguments other than a weight enum or `None` for 'weights' are deprecated since 0.13 and may be removed in the future. The current behavior is equivalent to passing `weights=None`.\n",
      "  warnings.warn(msg)\n",
      "Epoch 1/3: 100%|██████████| 168/168 [01:48<00:00,  1.55batch/s]\n",
      "Epoch 2/3: 100%|██████████| 168/168 [01:48<00:00,  1.54batch/s]\n",
      "Epoch 3/3: 100%|██████████| 168/168 [01:49<00:00,  1.54batch/s]\n",
      "Test of model: 100%|██████████| 42/42 [00:04<00:00,  9.60batch/s]"
     ]
    },
    {
     "name": "stdout",
     "output_type": "stream",
     "text": [
      "Average Test Loss: 3.0207525889078775\n"
     ]
    },
    {
     "name": "stderr",
     "output_type": "stream",
     "text": [
      "\n"
     ]
    }
   ],
   "source": [
    "vgg16_model = get_vgg16(pretrained=False)\n",
    "\n",
    "simple_optimizer = get_simple_optimizer(vgg16_model)\n",
    "\n",
    "untrained_results = train_vgg16_model(vgg16_model, simple_optimizer)"
   ]
  },
  {
   "cell_type": "markdown",
   "metadata": {},
   "source": [
    "# Treinamento Parcialmente Congelado"
   ]
  },
  {
   "cell_type": "code",
   "execution_count": null,
   "metadata": {},
   "outputs": [],
   "source": [
    "vgg16_model = get_vgg16(pretrained=True)\n",
    "\n",
    "partial_thawed_optimizer = get_partial_thawed_optimizer(vgg16_model)\n",
    "\n",
    "partial_thawed_results = train_vgg16_model(vgg16_model, partial_thawed_optimizer)"
   ]
  },
  {
   "cell_type": "markdown",
   "metadata": {},
   "source": [
    "# Treinamento Completamente Congelado"
   ]
  },
  {
   "cell_type": "code",
   "execution_count": null,
   "metadata": {},
   "outputs": [],
   "source": [
    "vgg16_model = get_vgg16(pretrained=True)\n",
    "\n",
    "fully_thawed_optimizer = get_fully_thawed_optimizer(vgg16_model)\n",
    "\n",
    "fully_thawed_results = train_vgg16_model(vgg16_model, fully_thawed_optimizer)"
   ]
  },
  {
   "cell_type": "markdown",
   "metadata": {},
   "source": [
    "# Definição do Método de Gráfico de Linha"
   ]
  },
  {
   "cell_type": "code",
   "execution_count": 11,
   "metadata": {},
   "outputs": [
    {
     "data": {
      "image/png": "[encoded data removed]",
      "text/plain": [
       "<Figure size 640x480 with 1 Axes>"
      ]
     },
     "metadata": {},
     "output_type": "display_data"
    }
   ],
   "source": [
    "def plot_line(data:list[float], label:str, title:str):\n",
    "    plt.plot(range(1, NUMBER_OF_EPOCHS+1), data, label=label)\n",
    "    plt.xlabel('Epoch')\n",
    "    plt.ylabel('Loss')\n",
    "    plt.title(title)\n",
    "    plt.legend()\n",
    "    plt.show()"
   ]
  }
 ],
 "metadata": {
  "kernelspec": {
   "display_name": "Python 3",
   "language": "python",
   "name": "python3"
  },
  "language_info": {
   "codemirror_mode": {
    "name": "ipython",
    "version": 3
   },
   "file_extension": ".py",
   "mimetype": "text/x-python",
   "name": "python",
   "nbconvert_exporter": "python",
   "pygments_lexer": "ipython3",
   "version": "3.11.0"
  }
 },
 "nbformat": 4,
 "nbformat_minor": 2
}
